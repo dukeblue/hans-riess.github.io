{
 "cells": [
  {
   "cell_type": "markdown",
   "metadata": {},
   "source": [
    "# Talks markdown generator for academicpages\n",
    "\n",
    "Takes a TSV of talks with metadata and converts them for use with [academicpages.github.io](academicpages.github.io). This is an interactive Jupyter notebook ([see more info here](http://jupyter-notebook-beginner-guide.readthedocs.io/en/latest/what_is_jupyter.html)). The core python code is also in `talks.py`. Run either from the `markdown_generator` folder after replacing `talks.tsv` with one containing your data.\n",
    "\n",
    "TODO: Make this work with BibTex and other databases, rather than Stuart's non-standard TSV format and citation style."
   ]
  },
  {
   "cell_type": "code",
   "execution_count": 1,
   "metadata": {},
   "outputs": [],
   "source": [
    "import pandas as pd\n",
    "import os"
   ]
  },
  {
   "cell_type": "markdown",
   "metadata": {},
   "source": [
    "## Data format\n",
    "\n",
    "The TSV needs to have the following columns: title, type, url_slug, venue, date, location, talk_url, description, with a header at the top. Many of these fields can be blank, but the columns must be in the TSV.\n",
    "\n",
    "- Fields that cannot be blank: `title`, `url_slug`, `date`. All else can be blank. `type` defaults to \"Talk\" \n",
    "- `date` must be formatted as YYYY-MM-DD.\n",
    "- `url_slug` will be the descriptive part of the .md file and the permalink URL for the page about the paper. \n",
    "    - The .md file will be `YYYY-MM-DD-[url_slug].md` and the permalink will be `https://[yourdomain]/talks/YYYY-MM-DD-[url_slug]`\n",
    "    - The combination of `url_slug` and `date` must be unique, as it will be the basis for your filenames\n",
    "\n",
    "This is how the raw file looks (it doesn't look pretty, use a spreadsheet or other program to edit and create)."
   ]
  },
  {
   "cell_type": "markdown",
   "metadata": {},
   "source": [
    "## Import TSV\n",
    "\n",
    "Pandas makes this easy with the read_csv function. We are using a TSV, so we specify the separator as a tab, or `\\t`.\n",
    "\n",
    "I found it important to put this data in a tab-separated values format, because there are a lot of commas in this kind of data and comma-separated values can get messed up. However, you can modify the import statement, as pandas also has read_excel(), read_json(), and others."
   ]
  },
  {
   "cell_type": "code",
   "execution_count": 31,
   "metadata": {},
   "outputs": [],
   "source": [
    "talks = pd.read_csv(\"talks.tsv\", sep=\"\\t\", header=0)"
   ]
  },
  {
   "cell_type": "code",
   "execution_count": 63,
   "metadata": {},
   "outputs": [
    {
     "data": {
      "text/html": [
       "<div>\n",
       "<style scoped>\n",
       "    .dataframe tbody tr th:only-of-type {\n",
       "        vertical-align: middle;\n",
       "    }\n",
       "\n",
       "    .dataframe tbody tr th {\n",
       "        vertical-align: top;\n",
       "    }\n",
       "\n",
       "    .dataframe thead th {\n",
       "        text-align: right;\n",
       "    }\n",
       "</style>\n",
       "<table border=\"1\" class=\"dataframe\">\n",
       "  <thead>\n",
       "    <tr style=\"text-align: right;\">\n",
       "      <th></th>\n",
       "      <th>title</th>\n",
       "      <th>type</th>\n",
       "      <th>url_slug</th>\n",
       "      <th>venue</th>\n",
       "      <th>date</th>\n",
       "      <th>location</th>\n",
       "      <th>abstract_url</th>\n",
       "      <th>description</th>\n",
       "      <th>poster_url</th>\n",
       "    </tr>\n",
       "  </thead>\n",
       "  <tbody>\n",
       "    <tr>\n",
       "      <th>0</th>\n",
       "      <td>Tarski Sheaves</td>\n",
       "      <td>Talk</td>\n",
       "      <td>albany</td>\n",
       "      <td>Applied Topology in Albany Seminar</td>\n",
       "      <td>2021-02-12</td>\n",
       "      <td>Albany, New York</td>\n",
       "      <td>https://atia-seminar.github.io/flyers/210212-s...</td>\n",
       "      <td>I gave a talk on our paper \"Cellular Sheaves o...</td>\n",
       "      <td></td>\n",
       "    </tr>\n",
       "    <tr>\n",
       "      <th>1</th>\n",
       "      <td>A Lattice-Theoretic Laplacian for Cellular She...</td>\n",
       "      <td>Talk</td>\n",
       "      <td>siam-cse21</td>\n",
       "      <td>SIAM Conference on Computational Science and E...</td>\n",
       "      <td>2021-03-01</td>\n",
       "      <td>Fort Worth, Texas</td>\n",
       "      <td></td>\n",
       "      <td>I presented work on the Tarski Laplacian for t...</td>\n",
       "      <td></td>\n",
       "    </tr>\n",
       "    <tr>\n",
       "      <th>2</th>\n",
       "      <td>Cellular Sheaves and the Tarski Laplacian</td>\n",
       "      <td>Talk</td>\n",
       "      <td>abramsky</td>\n",
       "      <td>Quantum Group, Oxford Department of Computer S...</td>\n",
       "      <td>2020-07-31</td>\n",
       "      <td>Oxford, UK</td>\n",
       "      <td></td>\n",
       "      <td>At the kind invitation of Vidit Nanda, I gave ...</td>\n",
       "      <td></td>\n",
       "    </tr>\n",
       "    <tr>\n",
       "      <th>3</th>\n",
       "      <td>A Novel Graph Laplacian for Lattice-Valued She...</td>\n",
       "      <td>Talk</td>\n",
       "      <td>siam-mds20</td>\n",
       "      <td>SIAM Conference on Mathematics of Data Science</td>\n",
       "      <td>2020-05-06</td>\n",
       "      <td>Cincinnati, Ohio</td>\n",
       "      <td>https://meetings.siam.org/sess/dsp_talk.cfm?p=...</td>\n",
       "      <td>I presented work on the Tarski Laplacian for t...</td>\n",
       "      <td></td>\n",
       "    </tr>\n",
       "    <tr>\n",
       "      <th>4</th>\n",
       "      <td>Multidimensional Persistence Module Classifica...</td>\n",
       "      <td>Spotlight</td>\n",
       "      <td>neurips20</td>\n",
       "      <td>NeurIPS 2020 Worshop: Topological Data Analysi...</td>\n",
       "      <td>2020-12-11</td>\n",
       "      <td>Vancouver, Canada</td>\n",
       "      <td></td>\n",
       "      <td>Multiparameter persistent homology has been la...</td>\n",
       "      <td>https://openreview.net/attachment?id=CqFcRp-_m...</td>\n",
       "    </tr>\n",
       "  </tbody>\n",
       "</table>\n",
       "</div>"
      ],
      "text/plain": [
       "                                               title       type    url_slug  \\\n",
       "0                                     Tarski Sheaves       Talk      albany   \n",
       "1  A Lattice-Theoretic Laplacian for Cellular She...       Talk  siam-cse21   \n",
       "2          Cellular Sheaves and the Tarski Laplacian       Talk    abramsky   \n",
       "3  A Novel Graph Laplacian for Lattice-Valued She...       Talk  siam-mds20   \n",
       "4  Multidimensional Persistence Module Classifica...  Spotlight   neurips20   \n",
       "\n",
       "                                               venue        date  \\\n",
       "0                 Applied Topology in Albany Seminar  2021-02-12   \n",
       "1  SIAM Conference on Computational Science and E...  2021-03-01   \n",
       "2  Quantum Group, Oxford Department of Computer S...  2020-07-31   \n",
       "3     SIAM Conference on Mathematics of Data Science  2020-05-06   \n",
       "4  NeurIPS 2020 Worshop: Topological Data Analysi...  2020-12-11   \n",
       "\n",
       "            location                                       abstract_url  \\\n",
       "0   Albany, New York  https://atia-seminar.github.io/flyers/210212-s...   \n",
       "1  Fort Worth, Texas                                                      \n",
       "2         Oxford, UK                                                      \n",
       "3   Cincinnati, Ohio  https://meetings.siam.org/sess/dsp_talk.cfm?p=...   \n",
       "4  Vancouver, Canada                                                      \n",
       "\n",
       "                                         description  \\\n",
       "0  I gave a talk on our paper \"Cellular Sheaves o...   \n",
       "1  I presented work on the Tarski Laplacian for t...   \n",
       "2  At the kind invitation of Vidit Nanda, I gave ...   \n",
       "3  I presented work on the Tarski Laplacian for t...   \n",
       "4  Multiparameter persistent homology has been la...   \n",
       "\n",
       "                                          poster_url  \n",
       "0                                                     \n",
       "1                                                     \n",
       "2                                                     \n",
       "3                                                     \n",
       "4  https://openreview.net/attachment?id=CqFcRp-_m...  "
      ]
     },
     "execution_count": 63,
     "metadata": {},
     "output_type": "execute_result"
    }
   ],
   "source": [
    "talks"
   ]
  },
  {
   "cell_type": "code",
   "execution_count": 64,
   "metadata": {},
   "outputs": [],
   "source": [
    "talks.to_csv(\"talks.tsv\", sep=\"\\t\", index=False)"
   ]
  },
  {
   "cell_type": "markdown",
   "metadata": {},
   "source": [
    "## Escape special characters\n",
    "\n",
    "YAML is very picky about how it takes a valid string, so we are replacing single and double quotes (and ampersands) with their HTML encoded equivilents. This makes them look not so readable in raw format, but they are parsed and rendered nicely."
   ]
  },
  {
   "cell_type": "code",
   "execution_count": 68,
   "metadata": {},
   "outputs": [],
   "source": [
    "html_escape_table = {\n",
    "    \"&\": \"&amp;\",\n",
    "    '\"': \"&quot;\",\n",
    "    \"'\": \"&apos;\"\n",
    "    }\n",
    "\n",
    "def html_escape(text):\n",
    "    if type(text) is str:\n",
    "        return \"\".join(html_escape_table.get(c,c) for c in text)\n",
    "    else:\n",
    "        return \"False\""
   ]
  },
  {
   "cell_type": "markdown",
   "metadata": {},
   "source": [
    "## Creating the markdown files\n",
    "\n",
    "This is where the heavy lifting is done. This loops through all the rows in the TSV dataframe, then starts to concatentate a big string (```md```) that contains the markdown for each type. It does the YAML metadata first, then does the description for the individual page."
   ]
  },
  {
   "cell_type": "code",
   "execution_count": 72,
   "metadata": {},
   "outputs": [],
   "source": [
    "loc_dict = {}\n",
    "\n",
    "for row, item in talks.iterrows():\n",
    "    \n",
    "    md_filename = str(item.date) + \"-\" + item.url_slug + \".md\"\n",
    "    html_filename = str(item.date) + \"-\" + item.url_slug \n",
    "    year = item.date[:4]\n",
    "    \n",
    "    md = \"---\\ntitle: \\\"\"   + item.title + '\"\\n'\n",
    "    md += \"collection: talks\" + \"\\n\"\n",
    "    \n",
    "    if len(str(item.type)) > 3:\n",
    "        md += 'type: \"' + item.type + '\"\\n'\n",
    "    else:\n",
    "        md += 'type: \"Talk\"\\n'\n",
    "    \n",
    "    md += \"permalink: /talks/\" + html_filename + \"\\n\"\n",
    "    \n",
    "    if len(str(item.venue)) > 3:\n",
    "        md += 'venue: \"' + item.venue + '\"\\n'\n",
    "        \n",
    "    if len(str(item.location)) > 3:\n",
    "        md += \"date: \" + str(item.date) + \"\\n\"\n",
    "    \n",
    "    if len(str(item.location)) > 3:\n",
    "        md += 'location: \"' + str(item.location) + '\"\\n'\n",
    "           \n",
    "    md += \"---\\n\"\n",
    "    \n",
    "    \n",
    "    if len(str(item.abstract_url)) > 3:\n",
    "        md += \"\\n[Abstract](\" + item.abstract_url + \")\"\n",
    "        \n",
    "        if len(str(item.poster_url)) > 3:\n",
    "            md += \", \\n[Poster](\" + item.poster_url + \")\\n\"\n",
    "        else:\n",
    "            md += \"\\n\"\n",
    "        \n",
    "    \n",
    "    if len(str(item.description)) > 3:\n",
    "        md += \"\\n\" + html_escape(item.description) + \"\\n\"\n",
    "        \n",
    "        \n",
    "    md_filename = os.path.basename(md_filename)\n",
    "    #print(md)\n",
    "    \n",
    "    with open(\"../_talks/\" + md_filename, 'w') as f:\n",
    "        f.write(md)"
   ]
  },
  {
   "cell_type": "markdown",
   "metadata": {},
   "source": [
    "These files are in the talks directory, one directory below where we're working from."
   ]
  }
 ],
 "metadata": {
  "kernelspec": {
   "display_name": "Python 3",
   "language": "python",
   "name": "python3"
  },
  "language_info": {
   "codemirror_mode": {
    "name": "ipython",
    "version": 3
   },
   "file_extension": ".py",
   "mimetype": "text/x-python",
   "name": "python",
   "nbconvert_exporter": "python",
   "pygments_lexer": "ipython3",
   "version": "3.7.3"
  }
 },
 "nbformat": 4,
 "nbformat_minor": 1
}

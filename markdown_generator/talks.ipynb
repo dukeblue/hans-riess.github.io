{
 "cells": [
  {
   "cell_type": "markdown",
   "metadata": {},
   "source": [
    "# Talks markdown generator for academicpages\n",
    "\n",
    "Takes a TSV of talks with metadata and converts them for use with [academicpages.github.io](academicpages.github.io). This is an interactive Jupyter notebook ([see more info here](http://jupyter-notebook-beginner-guide.readthedocs.io/en/latest/what_is_jupyter.html)). The core python code is also in `talks.py`. Run either from the `markdown_generator` folder after replacing `talks.tsv` with one containing your data.\n",
    "\n",
    "TODO: Make this work with BibTex and other databases, rather than Stuart's non-standard TSV format and citation style."
   ]
  },
  {
   "cell_type": "code",
   "execution_count": 1,
   "metadata": {},
   "outputs": [],
   "source": [
    "import pandas as pd\n",
    "import os"
   ]
  },
  {
   "cell_type": "markdown",
   "metadata": {},
   "source": [
    "## Data format\n",
    "\n",
    "The TSV needs to have the following columns: title, type, url_slug, venue, date, location, talk_url, description, with a header at the top. Many of these fields can be blank, but the columns must be in the TSV.\n",
    "\n",
    "- Fields that cannot be blank: `title`, `url_slug`, `date`. All else can be blank. `type` defaults to \"Talk\" \n",
    "- `date` must be formatted as YYYY-MM-DD.\n",
    "- `url_slug` will be the descriptive part of the .md file and the permalink URL for the page about the paper. \n",
    "    - The .md file will be `YYYY-MM-DD-[url_slug].md` and the permalink will be `https://[yourdomain]/talks/YYYY-MM-DD-[url_slug]`\n",
    "    - The combination of `url_slug` and `date` must be unique, as it will be the basis for your filenames\n",
    "\n",
    "This is how the raw file looks (it doesn't look pretty, use a spreadsheet or other program to edit and create)."
   ]
  },
  {
   "cell_type": "markdown",
   "metadata": {},
   "source": [
    "## Import TSV\n",
    "\n",
    "Pandas makes this easy with the read_csv function. We are using a TSV, so we specify the separator as a tab, or `\\t`.\n",
    "\n",
    "I found it important to put this data in a tab-separated values format, because there are a lot of commas in this kind of data and comma-separated values can get messed up. However, you can modify the import statement, as pandas also has read_excel(), read_json(), and others."
   ]
  },
  {
   "cell_type": "code",
   "execution_count": 9,
   "metadata": {},
   "outputs": [],
   "source": [
    "talks = pd.read_csv(\"talks.tsv\", sep=\"\\t\", header=0)"
   ]
  },
  {
   "cell_type": "code",
   "execution_count": 6,
   "metadata": {
    "scrolled": false
   },
   "outputs": [],
   "source": [
    "publications = pd.read_csv(\"publications.tsv\", sep=\"\\t\", header=0)"
   ]
  },
  {
   "cell_type": "code",
   "execution_count": 41,
   "metadata": {},
   "outputs": [],
   "source": [
    "talks.loc[0] = ['Tarski Sheaves',\n",
    "                'Talk',\n",
    "                'albany-2021',\n",
    "                'Applied Topology in Albany Seminar',\n",
    "                '2021-02-12',\n",
    "                'Albany, New York',\n",
    "                'https://atia-seminar.github.io/flyers/210212-seminar.pdf',\n",
    "                'I gave a talk on our paper \"Cellular Sheaves of Lattices and the Tarski Laplacian\" at the invitation of Justin Curry at SUNY Albany.']"
   ]
  },
  {
   "cell_type": "code",
   "execution_count": 54,
   "metadata": {},
   "outputs": [],
   "source": [
    "talks.loc[1] = ['A Lattice-Theoretic Laplacian for Cellular Sheaves',\n",
    "                'Talk', \n",
    "               'siam-cse21',\n",
    "               'SIAM Conference on Computational Science and Engineering',\n",
    "               '2021-03-01',\n",
    "               'Fort Worth, Texas',\n",
    "               'https://meetings.siam.org/sess/dsp_talk.cfm?p=108999',\n",
    "               'I was happy to present work on the Tarski Laplacian for the mini-symposium \"Emerging Directions in Computational Topology,\" organized by Brad Nelson and Greg Henselman.']"
   ]
  },
  {
   "cell_type": "code",
   "execution_count": 36,
   "metadata": {},
   "outputs": [],
   "source": [
    "talks.loc[2] = ['Cellular Sheaves and the Tarski Laplacian',\n",
    "               'Talk',\n",
    "               'oxford-2020',\n",
    "               'Quantum Group, Oxford Department of Computer Science',\n",
    "               '2020-07-31',\n",
    "               'Oxford, UK',\n",
    "               '',\n",
    "               'At the kind invitation of Vidit Nanda, I gave a talk to Samson Abramsky and his research group about our paper \"Cellular Sheaves of Lattices and the Tarski Laplacian.\"']"
   ]
  },
  {
   "cell_type": "code",
   "execution_count": 62,
   "metadata": {},
   "outputs": [],
   "source": [
    "talks.loc[3] = ['A Novel Graph Laplacian for Lattice-Valued Sheaves',\n",
    "               'Talk',\n",
    "               'siam-mds20',\n",
    "               'SIAM Conference on Mathematics of Data Science',\n",
    "               '2020-05-06',\n",
    "               'Cincinnati, Ohio',\n",
    "               '',\n",
    "               'The graph Laplacian is ubiquitous in data science, from graph signal processing to distributed consensus, optimization, and control. We introduce a vast generalization of the graph Laplacian for certain systems of lattices over a network or even cell complex: a lattice-valued sheaf. Sheaves, an artifact of algebraic geometry, have recently found applications in sensing problems (R. Ghrist & S. Krishnan), signal processing (M. Robinson), distributed optimization (J. Hansen & R. Ghrist), persistent homology (J. Curry), and graph signal processing (J. Hansen). We extend the theory to lattices: discrete algebraic structures that encode hierarchical relationships. These structures have enough algebraic properties for effective message-passing algorithms and even constructions in homological algebra. The main result that drives our applications is a Hodge-theoretic fixed point theorem for a certain sheaf Laplacian which we call the Tarski Laplacian. This, then, is used to update the states of a sheaf in a distributed way to reach system consistency in a finite number of iterations (under mild assumptions). Time permitting, we will preview forthcoming work on applications to graph signal processing, and, in particular, to image processing in which convolutional filtering is derived from the Tarski Laplacian of a certain sheaf over the grid-graph of an image.']"
   ]
  },
  {
   "cell_type": "code",
   "execution_count": 82,
   "metadata": {},
   "outputs": [],
   "source": [
    "talks.loc[4] = ['Multidimensional Persistence Module Classification via Lattice-Theoretic Convolutions',\n",
    "               'Spotlight',\n",
    "               'neurips-20',\n",
    "               'NeurIPS 2020 Worshop: Topological Data Analysis and Beyond',\n",
    "               '2020-12-11',\n",
    "               'Vancouver, Canada',\n",
    "               'https://openreview.net/attachment?id=CqFcRp-_mUD&name=Poster',\n",
    "               'Multiparameter persistent homology has been largely neglected as an input to machine learning algorithms. We consider the use of lattice-based convolutional neural network layers as a tool for the analysis of features arising from multiparameter persistence  modules. We find that these show promise as an alternative to convolutions for the classification of multidimensional persistence modules.']"
   ]
  },
  {
   "cell_type": "code",
   "execution_count": 5,
   "metadata": {
    "scrolled": false
   },
   "outputs": [
    {
     "data": {
      "text/html": [
       "<div>\n",
       "<style scoped>\n",
       "    .dataframe tbody tr th:only-of-type {\n",
       "        vertical-align: middle;\n",
       "    }\n",
       "\n",
       "    .dataframe tbody tr th {\n",
       "        vertical-align: top;\n",
       "    }\n",
       "\n",
       "    .dataframe thead th {\n",
       "        text-align: right;\n",
       "    }\n",
       "</style>\n",
       "<table border=\"1\" class=\"dataframe\">\n",
       "  <thead>\n",
       "    <tr style=\"text-align: right;\">\n",
       "      <th></th>\n",
       "      <th>title</th>\n",
       "      <th>type</th>\n",
       "      <th>url_slug</th>\n",
       "      <th>venue</th>\n",
       "      <th>date</th>\n",
       "      <th>location</th>\n",
       "      <th>talk_url</th>\n",
       "      <th>description</th>\n",
       "    </tr>\n",
       "  </thead>\n",
       "  <tbody>\n",
       "    <tr>\n",
       "      <th>0</th>\n",
       "      <td>Talk 1 on Relevant Topic in Your Field</td>\n",
       "      <td>Talk</td>\n",
       "      <td>talk-1</td>\n",
       "      <td>UC San Francisco, Department of Testing</td>\n",
       "      <td>2012-03-01</td>\n",
       "      <td>San Francisco, California</td>\n",
       "      <td>NaN</td>\n",
       "      <td>This is a description of your talk, which is a...</td>\n",
       "    </tr>\n",
       "    <tr>\n",
       "      <th>1</th>\n",
       "      <td>Tutorial 1 on Relevant Topic in Your Field</td>\n",
       "      <td>Tutorial</td>\n",
       "      <td>tutorial-1</td>\n",
       "      <td>UC-Berkeley Institute for Testing Science</td>\n",
       "      <td>2013-03-01</td>\n",
       "      <td>Berkeley CA, USA</td>\n",
       "      <td>http://exampleurl.com</td>\n",
       "      <td>This is a description of your tutorial, note t...</td>\n",
       "    </tr>\n",
       "    <tr>\n",
       "      <th>2</th>\n",
       "      <td>Talk 2 on Relevant Topic in Your Field</td>\n",
       "      <td>Talk</td>\n",
       "      <td>talk-2</td>\n",
       "      <td>London School of Testing</td>\n",
       "      <td>2014-02-01</td>\n",
       "      <td>London, UK</td>\n",
       "      <td>http://example2.com</td>\n",
       "      <td>This is a description of your talk, which is a...</td>\n",
       "    </tr>\n",
       "    <tr>\n",
       "      <th>3</th>\n",
       "      <td>Conference Proceeding talk 3 on Relevant Topic...</td>\n",
       "      <td>Conference proceedings talk</td>\n",
       "      <td>talk-3</td>\n",
       "      <td>Testing Institute of America 2014 Annual Confe...</td>\n",
       "      <td>2014-03-01</td>\n",
       "      <td>Los Angeles, CA</td>\n",
       "      <td>NaN</td>\n",
       "      <td>This is a description of your conference proce...</td>\n",
       "    </tr>\n",
       "  </tbody>\n",
       "</table>\n",
       "</div>"
      ],
      "text/plain": [
       "                                               title  \\\n",
       "0             Talk 1 on Relevant Topic in Your Field   \n",
       "1         Tutorial 1 on Relevant Topic in Your Field   \n",
       "2             Talk 2 on Relevant Topic in Your Field   \n",
       "3  Conference Proceeding talk 3 on Relevant Topic...   \n",
       "\n",
       "                          type    url_slug  \\\n",
       "0                         Talk      talk-1   \n",
       "1                     Tutorial  tutorial-1   \n",
       "2                         Talk      talk-2   \n",
       "3  Conference proceedings talk      talk-3   \n",
       "\n",
       "                                               venue        date  \\\n",
       "0            UC San Francisco, Department of Testing  2012-03-01   \n",
       "1          UC-Berkeley Institute for Testing Science  2013-03-01   \n",
       "2                           London School of Testing  2014-02-01   \n",
       "3  Testing Institute of America 2014 Annual Confe...  2014-03-01   \n",
       "\n",
       "                    location               talk_url  \\\n",
       "0  San Francisco, California                    NaN   \n",
       "1           Berkeley CA, USA  http://exampleurl.com   \n",
       "2                 London, UK    http://example2.com   \n",
       "3            Los Angeles, CA                    NaN   \n",
       "\n",
       "                                         description  \n",
       "0  This is a description of your talk, which is a...  \n",
       "1  This is a description of your tutorial, note t...  \n",
       "2  This is a description of your talk, which is a...  \n",
       "3  This is a description of your conference proce...  "
      ]
     },
     "execution_count": 5,
     "metadata": {},
     "output_type": "execute_result"
    }
   ],
   "source": [
    "talks"
   ]
  },
  {
   "cell_type": "code",
   "execution_count": 79,
   "metadata": {},
   "outputs": [],
   "source": [
    "talks.loc[3]['description'] = 'I presented work on the Tarski Laplacian for the mini-symposium \"Topological Image Analysis.\" In particular, I presented some preliminary ideas on processing images with lattice-based convolutional filters using the Tarski Laplacian of a certain sheaf over the grid-graph on an image.'"
   ]
  },
  {
   "cell_type": "code",
   "execution_count": 74,
   "metadata": {},
   "outputs": [],
   "source": [
    "talks.loc[2]['location']='Oxford, United Kingdom'"
   ]
  },
  {
   "cell_type": "code",
   "execution_count": 71,
   "metadata": {},
   "outputs": [],
   "source": [
    "talks.loc[1]['description']= 'I presented work on the Tarski Laplacian for the mini-symposium \"Emerging Directions in Computational Topology\" organized by Brad Nelson and Greg Henselman. My talk emphasized computational aspects of computing with the Tarski Laplacian.'"
   ]
  },
  {
   "cell_type": "code",
   "execution_count": 85,
   "metadata": {},
   "outputs": [
    {
     "data": {
      "text/plain": [
       "'I presented work on the Tarski Laplacian for the mini-symposium &quot;Emerging Directions in Computational Topology,&quot; organized by Brad Nelson and Greg Henselman. My talk emphasized computational aspects of computing with the Tarski Laplacian.'"
      ]
     },
     "execution_count": 85,
     "metadata": {},
     "output_type": "execute_result"
    }
   ],
   "source": [
    "talks['description'][1]"
   ]
  },
  {
   "cell_type": "markdown",
   "metadata": {},
   "source": [
    "## Escape special characters\n",
    "\n",
    "YAML is very picky about how it takes a valid string, so we are replacing single and double quotes (and ampersands) with their HTML encoded equivilents. This makes them look not so readable in raw format, but they are parsed and rendered nicely."
   ]
  },
  {
   "cell_type": "code",
   "execution_count": 52,
   "metadata": {},
   "outputs": [],
   "source": [
    "html_escape_table = {\n",
    "    \"&\": \"&amp;\",\n",
    "    '\"': \"&quot;\",\n",
    "    \"'\": \"&apos;\"\n",
    "    }\n",
    "\n",
    "def html_escape(text):\n",
    "    if type(text) is str:\n",
    "        return \"\".join(html_escape_table.get(c,c) for c in text)\n",
    "    else:\n",
    "        return \"False\""
   ]
  },
  {
   "cell_type": "markdown",
   "metadata": {},
   "source": [
    "## Creating the markdown files\n",
    "\n",
    "This is where the heavy lifting is done. This loops through all the rows in the TSV dataframe, then starts to concatentate a big string (```md```) that contains the markdown for each type. It does the YAML metadata first, then does the description for the individual page."
   ]
  },
  {
   "cell_type": "code",
   "execution_count": 89,
   "metadata": {},
   "outputs": [],
   "source": [
    "loc_dict = {}\n",
    "\n",
    "for row, item in talks.iterrows():\n",
    "    \n",
    "    md_filename = str(item.date) + \"-\" + item.url_slug + \".md\"\n",
    "    html_filename = str(item.date) + \"-\" + item.url_slug \n",
    "    year = item.date[:4]\n",
    "    \n",
    "    md = \"---\\ntitle: \\\"\"   + item.title + '\"\\n'\n",
    "    md += \"collection: talks\" + \"\\n\"\n",
    "    \n",
    "    if len(str(item.type)) > 3:\n",
    "        md += 'type: \"' + item.type + '\"\\n'\n",
    "    else:\n",
    "        md += 'type: \"Talk\"\\n'\n",
    "    \n",
    "    md += \"permalink: /talks/\" + html_filename + \"\\n\"\n",
    "    \n",
    "    if len(str(item.venue)) > 3:\n",
    "        md += 'venue: \"' + item.venue + '\"\\n'\n",
    "        \n",
    "    if len(str(item.location)) > 3:\n",
    "        md += \"date: \" + str(item.date) + \"\\n\"\n",
    "    \n",
    "    if len(str(item.location)) > 3:\n",
    "        md += 'location: \"' + str(item.location) + '\"\\n'\n",
    "           \n",
    "    md += \"---\\n\"\n",
    "    \n",
    "    \n",
    "    if len(str(item.talk_url)) > 3:\n",
    "        md += \"\\n[More information here](\" + item.talk_url + \")\\n\" \n",
    "        \n",
    "    \n",
    "    if len(str(item.description)) > 3:\n",
    "        md += \"\\n\" + html_escape(item.description) + \"\\n\"\n",
    "        \n",
    "        \n",
    "    md_filename = os.path.basename(md_filename)\n",
    "    #print(md)\n",
    "    \n",
    "    with open(\"../_talks/\" + md_filename, 'w') as f:\n",
    "        f.write(md)"
   ]
  },
  {
   "cell_type": "markdown",
   "metadata": {},
   "source": [
    "These files are in the talks directory, one directory below where we're working from."
   ]
  }
 ],
 "metadata": {
  "kernelspec": {
   "display_name": "Python 3",
   "language": "python",
   "name": "python3"
  },
  "language_info": {
   "codemirror_mode": {
    "name": "ipython",
    "version": 3
   },
   "file_extension": ".py",
   "mimetype": "text/x-python",
   "name": "python",
   "nbconvert_exporter": "python",
   "pygments_lexer": "ipython3",
   "version": "3.7.3"
  }
 },
 "nbformat": 4,
 "nbformat_minor": 1
}

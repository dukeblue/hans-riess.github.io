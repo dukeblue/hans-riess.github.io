{
 "cells": [
  {
   "cell_type": "markdown",
   "metadata": {},
   "source": [
    "# Leaflet cluster map of talk locations\n",
    "\n",
    "Run this from the _talks/ directory, which contains .md files of all your talks. This scrapes the location YAML field from each .md file, geolocates it with geopy/Nominatim, and uses the getorg library to output data, HTML, and Javascript for a standalone cluster map."
   ]
  },
  {
   "cell_type": "code",
   "execution_count": 1,
   "metadata": {
    "scrolled": false
   },
   "outputs": [
    {
     "output_type": "stream",
     "name": "stdout",
     "text": [
      "Iywidgets and ipyleaflet support disabled. You must be in a Jupyter notebook to use this feature.\nError raised:\nNo module named 'ipyleaflet'\nCheck that you have enabled ipyleaflet in Jupyter with:\n    jupyter nbextension enable --py ipyleaflet\n"
     ]
    }
   ],
   "source": [
    "#!pip install getorg --upgrade\n",
    "import glob\n",
    "import getorg\n",
    "from geopy import Nominatim"
   ]
  },
  {
   "cell_type": "code",
   "execution_count": 2,
   "metadata": {},
   "outputs": [
    {
     "output_type": "stream",
     "name": "stderr",
     "text": [
      "Traceback (most recent call last):\n  File \"C:\\Users\\hansr\\Anaconda3\\Scripts\\jupyter-nbextension-script.py\", line 10, in <module>\n    sys.exit(main())\n  File \"C:\\Users\\hansr\\Anaconda3\\lib\\site-packages\\jupyter_core\\application.py\", line 267, in launch_instance\n    return super(JupyterApp, cls).launch_instance(argv=argv, **kwargs)\n  File \"C:\\Users\\hansr\\Anaconda3\\lib\\site-packages\\traitlets\\config\\application.py\", line 658, in launch_instance\n    app.start()\n  File \"C:\\Users\\hansr\\Anaconda3\\lib\\site-packages\\notebook\\nbextensions.py\", line 988, in start\n    super(NBExtensionApp, self).start()\n  File \"C:\\Users\\hansr\\Anaconda3\\lib\\site-packages\\jupyter_core\\application.py\", line 256, in start\n    self.subapp.start()\n  File \"C:\\Users\\hansr\\Anaconda3\\lib\\site-packages\\notebook\\nbextensions.py\", line 896, in start\n    self.toggle_nbextension_python(self.extra_args[0])\n  File \"C:\\Users\\hansr\\Anaconda3\\lib\\site-packages\\notebook\\nbextensions.py\", line 872, in toggle_nbextension_python\n    logger=self.log)\n  File \"C:\\Users\\hansr\\Anaconda3\\lib\\site-packages\\notebook\\nbextensions.py\", line 483, in enable_nbextension_python\n    logger=logger)\n  File \"C:\\Users\\hansr\\Anaconda3\\lib\\site-packages\\notebook\\nbextensions.py\", line 380, in _set_nbextension_state_python\n    m, nbexts = _get_nbextension_metadata(module)\n  File \"C:\\Users\\hansr\\Anaconda3\\lib\\site-packages\\notebook\\nbextensions.py\", line 1122, in _get_nbextension_metadata\n    m = import_item(module)\n  File \"C:\\Users\\hansr\\Anaconda3\\lib\\site-packages\\traitlets\\utils\\importstring.py\", line 42, in import_item\n    return __import__(parts[0])\nModuleNotFoundError: No module named 'ipyleaflet'\n"
     ]
    }
   ],
   "source": [
    " !jupyter nbextension enable --py ipyleaflet"
   ]
  },
  {
   "cell_type": "code",
   "execution_count": 17,
   "metadata": {},
   "outputs": [],
   "source": [
    "g = glob.glob(\"*.md\")"
   ]
  },
  {
   "cell_type": "code",
   "execution_count": 18,
   "metadata": {},
   "outputs": [],
   "source": [
    "geocoder = Nominatim(user_agent=\"hans-riess\")\n",
    "location_dict = {}\n",
    "location = \"\"\n",
    "permalink = \"\"\n",
    "title = \"\""
   ]
  },
  {
   "cell_type": "code",
   "execution_count": 19,
   "metadata": {},
   "outputs": [
    {
     "name": "stdout",
     "output_type": "stream",
     "text": [
      " \n",
      " None\n"
     ]
    }
   ],
   "source": [
    "for file in g:\n",
    "    with open(file, 'r') as f:\n",
    "        lines = f.read()\n",
    "        if lines.find('location: \"') > 1:\n",
    "            loc_start = lines.find('location: \"') + 11\n",
    "            lines_trim = lines[loc_start:]\n",
    "            loc_end = lines_trim.find('\"')\n",
    "            location = lines_trim[:loc_end]\n",
    "                            \n",
    "           \n",
    "        location_dict[location] = geocoder.geocode(location)\n",
    "        print(location, \"\\n\", location_dict[location])\n"
   ]
  },
  {
   "cell_type": "code",
   "execution_count": 20,
   "metadata": {},
   "outputs": [
    {
     "data": {
      "text/plain": [
       "'Written map to ../talkmap/'"
      ]
     },
     "execution_count": 20,
     "metadata": {},
     "output_type": "execute_result"
    }
   ],
   "source": [
    "m = getorg.orgmap.create_map_obj()\n",
    "getorg.orgmap.output_html_cluster_map(location_dict, folder_name=\"../talkmap\", hashed_usernames=False)"
   ]
  },
  {
   "cell_type": "code",
   "execution_count": null,
   "metadata": {
    "collapsed": true
   },
   "outputs": [],
   "source": []
  }
 ],
 "metadata": {
  "anaconda-cloud": {},
  "kernelspec": {
   "name": "python373jvsc74a57bd0f8c9cb946ac6de7a6d3f7cd0f22e4522e98c2162f6fc78842916afa801b3f996",
   "display_name": "Python 3.7.3 64-bit ('base': conda)"
  },
  "language_info": {
   "codemirror_mode": {
    "name": "ipython",
    "version": 3
   },
   "file_extension": ".py",
   "mimetype": "text/x-python",
   "name": "python",
   "nbconvert_exporter": "python",
   "pygments_lexer": "ipython3",
   "version": "3.7.3"
  }
 },
 "nbformat": 4,
 "nbformat_minor": 1
}